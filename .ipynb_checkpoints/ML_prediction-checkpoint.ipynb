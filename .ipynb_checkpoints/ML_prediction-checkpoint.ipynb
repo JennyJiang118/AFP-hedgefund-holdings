{
 "cells": [
  {
   "cell_type": "code",
   "execution_count": 77,
   "id": "0e6d9b5b-468d-4b5a-a096-66be2536a5a4",
   "metadata": {},
   "outputs": [],
   "source": [
    "# basic\n",
    "import numpy as np\n",
    "import pandas as pd\n",
    "\n",
    "# diagnostics\n",
    "import seaborn as sns\n",
    "import matplotlib.pyplot as plt\n",
    "from sklearn.metrics import mean_squared_error, r2_score\n",
    "\n",
    "# models\n",
    "from sklearn.model_selection import GridSearchCV, TimeSeriesSplit\n",
    "import statsmodels.api as sm\n",
    "from sklearn.ensemble import RandomForestRegressor\n",
    "import xgboost as xgb\n",
    "\n",
    "# cosmetics\n",
    "import warnings\n",
    "warnings.filterwarnings('ignore')"
   ]
  },
  {
   "cell_type": "markdown",
   "id": "f55758f3-c816-4fa0-acad-4e5ae41d3ebc",
   "metadata": {},
   "source": [
    "# Data\n",
    "\n",
    "Preprocessing is in ML_get_data.py"
   ]
  },
  {
   "cell_type": "code",
   "execution_count": 42,
   "id": "b0968d86-54f5-4ddb-8747-68c55688b3b9",
   "metadata": {},
   "outputs": [],
   "source": [
    "data_raw = pd.read_csv('../data/ML_data_raw.csv')\n",
    "data_raw['date'] = pd.to_datetime(data_raw['date'])\n",
    "\n",
    "# remove some features\n",
    "factor_to_exclude = ['ret_60_12', 'ni_ar1', 'beta_60m'] # too many NAs\n",
    "data_raw = data_raw[[col for col in data_raw.columns.to_list() if col not in factor_to_exclude]]\n",
    "\n",
    "# drop remaining NAs\n",
    "data = data_raw.dropna()\n",
    "factor_names = data.columns.to_list()[4:]"
   ]
  },
  {
   "cell_type": "code",
   "execution_count": 121,
   "id": "2b69be05-787c-4e80-bd95-5491987e78b3",
   "metadata": {},
   "outputs": [],
   "source": [
    "# y = data['weight']\n",
    "y = data['weight_diff'] # using weight_diff instead of weight bc weight itself is unpredictable\n",
    "X = data[factor_names]\n",
    "for col in X.columns:\n",
    "    col_mean = X[col].mean()\n",
    "    col_std = X[col].std()\n",
    "    X[col] = (X[col] - col_mean) / col_std\n",
    "    X[col] = X[col].clip(lower=-3, upper=3) # normalize features to [-3,3]\n",
    "\n",
    "# Split train, val, test\n",
    "test_time_start = data['date'].max() - pd.DateOffset(years=1) # last 1 years as test\n",
    "val_time_start = test_time_start - pd.DateOffset(years=1) # 1 years as val\n",
    "data_test = data[data['date'] >= test_time_start]\n",
    "data_val = data[(data['date'] >= val_time_start) & (data['date'] < test_time_start)]\n",
    "data_train = data[data['date'] < val_time_start]\n",
    "X_test = X[data['date'] >= test_time_start]\n",
    "X_val = X[(data['date'] >= val_time_start) & (data['date'] < test_time_start)]\n",
    "X_train = X[data['date'] < val_time_start]\n",
    "y_test = y[data['date'] >= test_time_start]\n",
    "y_val = y[(data['date'] >= val_time_start) & (data['date'] < test_time_start)]\n",
    "y_train = y[data['date'] < val_time_start]\n",
    "\n",
    "# special train set for time-series cross validation (automanaged by sklearn)\n",
    "X_train_auto_val = X[data['date'] < test_time_start]\n",
    "y_train_auto_val = y[data['date'] < test_time_start]"
   ]
  },
  {
   "cell_type": "code",
   "execution_count": 98,
   "id": "d98cd2e9-894e-4755-89ba-451d756ca694",
   "metadata": {},
   "outputs": [],
   "source": [
    "result = pd.DataFrame(index=['RMSE', 'R2'])"
   ]
  },
  {
   "cell_type": "markdown",
   "id": "93b83e3a-731d-4dc4-8252-1936814e8f42",
   "metadata": {},
   "source": [
    "# OLS"
   ]
  },
  {
   "cell_type": "code",
   "execution_count": 99,
   "id": "4feb8d6f-b464-4684-b764-45a30956fdfa",
   "metadata": {},
   "outputs": [
    {
     "name": "stdout",
     "output_type": "stream",
     "text": [
      "submodel_3 has lowest RMSE.\n",
      "submodel_3 has highest R2.\n",
      "CPU times: total: 0 ns\n",
      "Wall time: 227 ms\n"
     ]
    },
    {
     "data": {
      "text/html": [
       "<div>\n",
       "<style scoped>\n",
       "    .dataframe tbody tr th:only-of-type {\n",
       "        vertical-align: middle;\n",
       "    }\n",
       "\n",
       "    .dataframe tbody tr th {\n",
       "        vertical-align: top;\n",
       "    }\n",
       "\n",
       "    .dataframe thead th {\n",
       "        text-align: right;\n",
       "    }\n",
       "</style>\n",
       "<table border=\"1\" class=\"dataframe\">\n",
       "  <thead>\n",
       "    <tr style=\"text-align: right;\">\n",
       "      <th></th>\n",
       "      <th>submodel_1</th>\n",
       "      <th>submodel_2</th>\n",
       "      <th>submodel_3</th>\n",
       "    </tr>\n",
       "  </thead>\n",
       "  <tbody>\n",
       "    <tr>\n",
       "      <th>RMSE</th>\n",
       "      <td>0.003569</td>\n",
       "      <td>0.003892</td>\n",
       "      <td>0.003546</td>\n",
       "    </tr>\n",
       "    <tr>\n",
       "      <th>R2</th>\n",
       "      <td>-0.187236</td>\n",
       "      <td>-0.411477</td>\n",
       "      <td>-0.171687</td>\n",
       "    </tr>\n",
       "  </tbody>\n",
       "</table>\n",
       "</div>"
      ],
      "text/plain": [
       "      submodel_1  submodel_2  submodel_3\n",
       "RMSE    0.003569    0.003892    0.003546\n",
       "R2     -0.187236   -0.411477   -0.171687"
      ]
     },
     "execution_count": 99,
     "metadata": {},
     "output_type": "execute_result"
    }
   ],
   "source": [
    "%%time\n",
    "# train\n",
    "model_OLS = sm.OLS(y_train, sm.add_constant(X_train)).fit()\n",
    "model_OLS_reg_l1 = sm.GLM(y_train, sm.add_constant(X_train), family=sm.families.Gaussian()).fit_regularized(L1_wt=1, alpha=0.1)\n",
    "model_OLS_reg_l2 = sm.GLM(y_train, sm.add_constant(X_train), family=sm.families.Gaussian()).fit_regularized(L1_wt=0, alpha=0.1)\n",
    "\n",
    "# val\n",
    "def validation_helper(y_true: pd.Series, y_vals: list):\n",
    "    result = pd.DataFrame(index=['RMSE', 'R2'])\n",
    "    for i in range(len(y_vals)):\n",
    "        rmse = np.sqrt(mean_squared_error(y_true, y_vals[i]))\n",
    "        r2 = r2_score(y_true, y_vals[i])\n",
    "        result[f'submodel_{i+1}'] = pd.Series([rmse, r2], index=result.index)\n",
    "    print(f\"{result.loc['RMSE'].idxmin()} has lowest RMSE.\")\n",
    "    print(f\"{result.loc['R2'].idxmax()} has highest R2.\")\n",
    "    return result\n",
    "\n",
    "y_hat_val_OLS = model_OLS.predict(sm.add_constant(X_val))\n",
    "y_hat_val_OLS_reg_l1 = model_OLS_reg_l1.predict(sm.add_constant(X_val))\n",
    "y_hat_val_OLS_reg_l2 = model_OLS_reg_l2.predict(sm.add_constant(X_val))\n",
    "validation_helper(y_val, [y_hat_val_OLS, y_hat_val_OLS_reg_l1, y_hat_val_OLS_reg_l2])"
   ]
  },
  {
   "cell_type": "code",
   "execution_count": 104,
   "id": "06daa62f-c6f7-44dc-b0d6-bc99d87c4f0f",
   "metadata": {},
   "outputs": [
    {
     "data": {
      "text/html": [
       "<div>\n",
       "<style scoped>\n",
       "    .dataframe tbody tr th:only-of-type {\n",
       "        vertical-align: middle;\n",
       "    }\n",
       "\n",
       "    .dataframe tbody tr th {\n",
       "        vertical-align: top;\n",
       "    }\n",
       "\n",
       "    .dataframe thead th {\n",
       "        text-align: right;\n",
       "    }\n",
       "</style>\n",
       "<table border=\"1\" class=\"dataframe\">\n",
       "  <thead>\n",
       "    <tr style=\"text-align: right;\">\n",
       "      <th></th>\n",
       "      <th>OLS</th>\n",
       "      <th>XGB</th>\n",
       "    </tr>\n",
       "  </thead>\n",
       "  <tbody>\n",
       "    <tr>\n",
       "      <th>RMSE</th>\n",
       "      <td>0.003160</td>\n",
       "      <td>0.003342</td>\n",
       "    </tr>\n",
       "    <tr>\n",
       "      <th>R2</th>\n",
       "      <td>-0.158073</td>\n",
       "      <td>-0.294967</td>\n",
       "    </tr>\n",
       "  </tbody>\n",
       "</table>\n",
       "</div>"
      ],
      "text/plain": [
       "           OLS       XGB\n",
       "RMSE  0.003160  0.003342\n",
       "R2   -0.158073 -0.294967"
      ]
     },
     "execution_count": 104,
     "metadata": {},
     "output_type": "execute_result"
    }
   ],
   "source": [
    "y_pred = model_OLS_reg_l2.predict(sm.add_constant(X_test)) # using submodel_3 (OLS with l2 reg) based on validation\n",
    "rmse = np.sqrt(mean_squared_error(y_test, y_pred))\n",
    "r2 = r2_score(y_test, y_pred)\n",
    "\n",
    "result['OLS'] = np.array([rmse, r2])\n",
    "result"
   ]
  },
  {
   "cell_type": "markdown",
   "id": "c8a5946e-1bcf-4998-a77b-22b8ff815800",
   "metadata": {},
   "source": [
    "# XGB"
   ]
  },
  {
   "cell_type": "code",
   "execution_count": 120,
   "id": "632ba4c5-0145-4e33-ade2-4891240f1f8a",
   "metadata": {
    "scrolled": true
   },
   "outputs": [],
   "source": [
    "# %%time\n",
    "# model = xgb.XGBRegressor(\n",
    "#     objective='reg:squarederror',  # Objective function for regression\n",
    "#     random_state=42                # Random seed for reproducibility\n",
    "# )\n",
    "\n",
    "# param_grid = {\n",
    "#     'n_estimators': [100, 200, 300],\n",
    "#     'max_depth': [3, 6, 10],\n",
    "#     'learning_rate': [0.1, 0.2],\n",
    "# }\n",
    "\n",
    "# tscv = TimeSeriesSplit(n_splits=5)\n",
    "# grid_search = GridSearchCV(model, param_grid, scoring='neg_root_mean_squared_error', cv=tscv, verbose=3)\n",
    "# grid_search.fit(X_train_auto_val, y_train_auto_val)\n",
    "# print(f\"Best parameters: {grid_search.best_params_}\")\n",
    "# best_model = grid_search.best_estimator_\n",
    "# best_model.save_model('models/XGB.json')"
   ]
  },
  {
   "cell_type": "code",
   "execution_count": 122,
   "id": "b748a0ee-8a18-44f2-8d52-e6495b6b7e01",
   "metadata": {},
   "outputs": [
    {
     "data": {
      "text/html": [
       "<div>\n",
       "<style scoped>\n",
       "    .dataframe tbody tr th:only-of-type {\n",
       "        vertical-align: middle;\n",
       "    }\n",
       "\n",
       "    .dataframe tbody tr th {\n",
       "        vertical-align: top;\n",
       "    }\n",
       "\n",
       "    .dataframe thead th {\n",
       "        text-align: right;\n",
       "    }\n",
       "</style>\n",
       "<table border=\"1\" class=\"dataframe\">\n",
       "  <thead>\n",
       "    <tr style=\"text-align: right;\">\n",
       "      <th></th>\n",
       "      <th>OLS</th>\n",
       "      <th>XGB</th>\n",
       "    </tr>\n",
       "  </thead>\n",
       "  <tbody>\n",
       "    <tr>\n",
       "      <th>RMSE</th>\n",
       "      <td>0.003160</td>\n",
       "      <td>0.003342</td>\n",
       "    </tr>\n",
       "    <tr>\n",
       "      <th>R2</th>\n",
       "      <td>-0.158073</td>\n",
       "      <td>-0.294967</td>\n",
       "    </tr>\n",
       "  </tbody>\n",
       "</table>\n",
       "</div>"
      ],
      "text/plain": [
       "           OLS       XGB\n",
       "RMSE  0.003160  0.003342\n",
       "R2   -0.158073 -0.294967"
      ]
     },
     "execution_count": 122,
     "metadata": {},
     "output_type": "execute_result"
    }
   ],
   "source": [
    "best_model = xgb.XGBRegressor()\n",
    "best_model.load_model('models/XGB.json')\n",
    "y_pred = best_model.predict(X_test)\n",
    "rmse = np.sqrt(mean_squared_error(y_test, y_pred))\n",
    "r2 = r2_score(y_test, y_pred)\n",
    "\n",
    "result['XGB'] = np.array([rmse, r2])\n",
    "result"
   ]
  },
  {
   "cell_type": "code",
   "execution_count": 143,
   "id": "89839410-2e8c-4eeb-8328-831bc4c2345e",
   "metadata": {},
   "outputs": [
    {
     "data": {
      "image/png": "[encoded data removed]",
      "text/plain": [
       "<Figure size 1000x400 with 1 Axes>"
      ]
     },
     "metadata": {},
     "output_type": "display_data"
    }
   ],
   "source": [
    "feature_importances_rf = best_model.feature_importances_\n",
    "\n",
    "# Sort the feature importances in descending order and plot\n",
    "sorted_idx_rf = np.argsort(feature_importances_rf)[::-1]\n",
    "\n",
    "plt.figure(figsize=(10, 4))\n",
    "plt.bar(range(X.shape[1]), feature_importances_rf[sorted_idx_rf])\n",
    "plt.xlabel('Features')\n",
    "plt.ylabel('Importance')\n",
    "plt.title('XGB Feature Importance')\n",
    "plt.xticks(range(X.shape[1]), np.array(X.columns)[sorted_idx_rf], rotation=45)\n",
    "plt.show()\n",
    "\n",
    "# https://wrds-www.wharton.upenn.edu/data-dictionary/contrib_global_factor/global_factor/\n",
    "# ebit_sale: Profit margin\n",
    "# iskew_ff3_21d: Idiosyncratic skewness from the Fama-French 3-factor model\n",
    "# at_gr1: Asset Growth\n",
    "# ret: Total return in USD\n",
    "# sale_bev: Assets turnover"
   ]
  },
  {
   "cell_type": "code",
   "execution_count": 141,
   "id": "5fa5260c-5362-4366-9494-7c69c32ebcf6",
   "metadata": {},
   "outputs": [
    {
     "data": {
      "text/html": [
       "<div>\n",
       "<style scoped>\n",
       "    .dataframe tbody tr th:only-of-type {\n",
       "        vertical-align: middle;\n",
       "    }\n",
       "\n",
       "    .dataframe tbody tr th {\n",
       "        vertical-align: top;\n",
       "    }\n",
       "\n",
       "    .dataframe thead th {\n",
       "        text-align: right;\n",
       "    }\n",
       "</style>\n",
       "<table border=\"1\" class=\"dataframe\">\n",
       "  <thead>\n",
       "    <tr style=\"text-align: right;\">\n",
       "      <th></th>\n",
       "      <th>error</th>\n",
       "      <th>date</th>\n",
       "      <th>permno</th>\n",
       "      <th>type</th>\n",
       "    </tr>\n",
       "  </thead>\n",
       "  <tbody>\n",
       "    <tr>\n",
       "      <th>1495</th>\n",
       "      <td>-0.001271</td>\n",
       "      <td>2015-09-30</td>\n",
       "      <td>10026</td>\n",
       "      <td>train</td>\n",
       "    </tr>\n",
       "    <tr>\n",
       "      <th>1496</th>\n",
       "      <td>0.000197</td>\n",
       "      <td>2015-09-30</td>\n",
       "      <td>10032</td>\n",
       "      <td>train</td>\n",
       "    </tr>\n",
       "    <tr>\n",
       "      <th>1497</th>\n",
       "      <td>-0.000143</td>\n",
       "      <td>2015-09-30</td>\n",
       "      <td>10104</td>\n",
       "      <td>train</td>\n",
       "    </tr>\n",
       "    <tr>\n",
       "      <th>1498</th>\n",
       "      <td>0.003848</td>\n",
       "      <td>2015-09-30</td>\n",
       "      <td>10107</td>\n",
       "      <td>train</td>\n",
       "    </tr>\n",
       "    <tr>\n",
       "      <th>1499</th>\n",
       "      <td>0.000599</td>\n",
       "      <td>2015-09-30</td>\n",
       "      <td>10138</td>\n",
       "      <td>train</td>\n",
       "    </tr>\n",
       "    <tr>\n",
       "      <th>...</th>\n",
       "      <td>...</td>\n",
       "      <td>...</td>\n",
       "      <td>...</td>\n",
       "      <td>...</td>\n",
       "    </tr>\n",
       "    <tr>\n",
       "      <th>53319</th>\n",
       "      <td>-0.004342</td>\n",
       "      <td>2022-09-30</td>\n",
       "      <td>93380</td>\n",
       "      <td>test</td>\n",
       "    </tr>\n",
       "    <tr>\n",
       "      <th>53320</th>\n",
       "      <td>-0.002753</td>\n",
       "      <td>2022-09-30</td>\n",
       "      <td>93419</td>\n",
       "      <td>test</td>\n",
       "    </tr>\n",
       "    <tr>\n",
       "      <th>53322</th>\n",
       "      <td>0.000708</td>\n",
       "      <td>2022-09-30</td>\n",
       "      <td>93427</td>\n",
       "      <td>test</td>\n",
       "    </tr>\n",
       "    <tr>\n",
       "      <th>53323</th>\n",
       "      <td>-0.000186</td>\n",
       "      <td>2022-09-30</td>\n",
       "      <td>93429</td>\n",
       "      <td>test</td>\n",
       "    </tr>\n",
       "    <tr>\n",
       "      <th>53324</th>\n",
       "      <td>-0.007708</td>\n",
       "      <td>2022-09-30</td>\n",
       "      <td>93436</td>\n",
       "      <td>test</td>\n",
       "    </tr>\n",
       "  </tbody>\n",
       "</table>\n",
       "<p>43892 rows × 4 columns</p>\n",
       "</div>"
      ],
      "text/plain": [
       "          error       date  permno   type\n",
       "1495  -0.001271 2015-09-30   10026  train\n",
       "1496   0.000197 2015-09-30   10032  train\n",
       "1497  -0.000143 2015-09-30   10104  train\n",
       "1498   0.003848 2015-09-30   10107  train\n",
       "1499   0.000599 2015-09-30   10138  train\n",
       "...         ...        ...     ...    ...\n",
       "53319 -0.004342 2022-09-30   93380   test\n",
       "53320 -0.002753 2022-09-30   93419   test\n",
       "53322  0.000708 2022-09-30   93427   test\n",
       "53323 -0.000186 2022-09-30   93429   test\n",
       "53324 -0.007708 2022-09-30   93436   test\n",
       "\n",
       "[43892 rows x 4 columns]"
      ]
     },
     "execution_count": 141,
     "metadata": {},
     "output_type": "execute_result"
    }
   ],
   "source": [
    "# error = data_test['weight_diff'] - y_pred\n",
    "y_pred = best_model.predict(X)\n",
    "diagnostic = pd.DataFrame()\n",
    "diagnostic['error'] = data['weight_diff'] - y_pred\n",
    "diagnostic['date'] = data['date']\n",
    "diagnostic['permno'] = data['permno']\n",
    "diagnostic['type'] = diagnostic.apply(lambda row: 'train' if row['date']<test_time_start else 'test', axis=1)\n",
    "diagnostic"
   ]
  }
 ],
 "metadata": {
  "kernelspec": {
   "display_name": "Python 3 (ipykernel)",
   "language": "python",
   "name": "python3"
  },
  "language_info": {
   "codemirror_mode": {
    "name": "ipython",
    "version": 3
   },
   "file_extension": ".py",
   "mimetype": "text/x-python",
   "name": "python",
   "nbconvert_exporter": "python",
   "pygments_lexer": "ipython3",
   "version": "3.10.13"
  }
 },
 "nbformat": 4,
 "nbformat_minor": 5
}
