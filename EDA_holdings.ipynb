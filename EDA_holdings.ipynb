{
 "cells": [
  {
   "cell_type": "code",
   "execution_count": 16,
   "id": "57a9c5ee",
   "metadata": {},
   "outputs": [],
   "source": [
    "import pandas as pd\n",
    "import numpy as np\n",
    "from matplotlib import pyplot as plt"
   ]
  },
  {
   "cell_type": "markdown",
   "id": "f6fefa96",
   "metadata": {},
   "source": [
    "# Holdings"
   ]
  },
  {
   "cell_type": "code",
   "execution_count": 125,
   "id": "6ad0fedd",
   "metadata": {},
   "outputs": [
    {
     "data": {
      "text/html": [
       "<div>\n",
       "<style scoped>\n",
       "    .dataframe tbody tr th:only-of-type {\n",
       "        vertical-align: middle;\n",
       "    }\n",
       "\n",
       "    .dataframe tbody tr th {\n",
       "        vertical-align: top;\n",
       "    }\n",
       "\n",
       "    .dataframe thead th {\n",
       "        text-align: right;\n",
       "    }\n",
       "</style>\n",
       "<table border=\"1\" class=\"dataframe\">\n",
       "  <thead>\n",
       "    <tr style=\"text-align: right;\">\n",
       "      <th></th>\n",
       "      <th>date</th>\n",
       "      <th>mgrno</th>\n",
       "      <th>first_report</th>\n",
       "      <th>last_report</th>\n",
       "      <th>shares</th>\n",
       "      <th>permno</th>\n",
       "      <th>shares_adj</th>\n",
       "      <th>phrdate</th>\n",
       "      <th>pshares_adj</th>\n",
       "      <th>trade</th>\n",
       "      <th>...</th>\n",
       "      <th>askhi</th>\n",
       "      <th>bidlo</th>\n",
       "      <th>ret</th>\n",
       "      <th>shrout</th>\n",
       "      <th>yyyy-mm</th>\n",
       "      <th>gics</th>\n",
       "      <th>comnam</th>\n",
       "      <th>ticker</th>\n",
       "      <th>gics1</th>\n",
       "      <th>gics2</th>\n",
       "    </tr>\n",
       "  </thead>\n",
       "  <tbody>\n",
       "    <tr>\n",
       "      <th>0</th>\n",
       "      <td>2021-06-30</td>\n",
       "      <td>110.0</td>\n",
       "      <td>False</td>\n",
       "      <td>False</td>\n",
       "      <td>3000.0</td>\n",
       "      <td>10104.0</td>\n",
       "      <td>3000.0</td>\n",
       "      <td>2021-03-31</td>\n",
       "      <td>3000.0</td>\n",
       "      <td>0.0</td>\n",
       "      <td>...</td>\n",
       "      <td>78.209999</td>\n",
       "      <td>77.580002</td>\n",
       "      <td>-0.003329</td>\n",
       "      <td>2792000.0</td>\n",
       "      <td>2021-06</td>\n",
       "      <td>45103020.0</td>\n",
       "      <td>ORACLE CORP</td>\n",
       "      <td>ORCL</td>\n",
       "      <td>Information Technology</td>\n",
       "      <td>Software &amp; Services</td>\n",
       "    </tr>\n",
       "    <tr>\n",
       "      <th>1</th>\n",
       "      <td>2021-09-30</td>\n",
       "      <td>110.0</td>\n",
       "      <td>False</td>\n",
       "      <td>False</td>\n",
       "      <td>3000.0</td>\n",
       "      <td>10104.0</td>\n",
       "      <td>3000.0</td>\n",
       "      <td>2021-06-30</td>\n",
       "      <td>3000.0</td>\n",
       "      <td>0.0</td>\n",
       "      <td>...</td>\n",
       "      <td>91.580002</td>\n",
       "      <td>87.120003</td>\n",
       "      <td>-0.045151</td>\n",
       "      <td>2733686.0</td>\n",
       "      <td>2021-09</td>\n",
       "      <td>45103020.0</td>\n",
       "      <td>ORACLE CORP</td>\n",
       "      <td>ORCL</td>\n",
       "      <td>Information Technology</td>\n",
       "      <td>Software &amp; Services</td>\n",
       "    </tr>\n",
       "    <tr>\n",
       "      <th>2</th>\n",
       "      <td>2021-12-31</td>\n",
       "      <td>110.0</td>\n",
       "      <td>False</td>\n",
       "      <td>False</td>\n",
       "      <td>3000.0</td>\n",
       "      <td>10104.0</td>\n",
       "      <td>3000.0</td>\n",
       "      <td>2021-09-30</td>\n",
       "      <td>3000.0</td>\n",
       "      <td>0.0</td>\n",
       "      <td>...</td>\n",
       "      <td>88.099998</td>\n",
       "      <td>87.180000</td>\n",
       "      <td>-0.009090</td>\n",
       "      <td>2670447.0</td>\n",
       "      <td>2021-12</td>\n",
       "      <td>45103020.0</td>\n",
       "      <td>ORACLE CORP</td>\n",
       "      <td>ORCL</td>\n",
       "      <td>Information Technology</td>\n",
       "      <td>Software &amp; Services</td>\n",
       "    </tr>\n",
       "    <tr>\n",
       "      <th>3</th>\n",
       "      <td>2022-03-31</td>\n",
       "      <td>110.0</td>\n",
       "      <td>False</td>\n",
       "      <td>False</td>\n",
       "      <td>3000.0</td>\n",
       "      <td>10104.0</td>\n",
       "      <td>3000.0</td>\n",
       "      <td>2021-12-31</td>\n",
       "      <td>3000.0</td>\n",
       "      <td>0.0</td>\n",
       "      <td>...</td>\n",
       "      <td>83.910004</td>\n",
       "      <td>82.589996</td>\n",
       "      <td>-0.007558</td>\n",
       "      <td>2668157.0</td>\n",
       "      <td>2022-03</td>\n",
       "      <td>45103020.0</td>\n",
       "      <td>ORACLE CORP</td>\n",
       "      <td>ORCL</td>\n",
       "      <td>Information Technology</td>\n",
       "      <td>Software &amp; Services</td>\n",
       "    </tr>\n",
       "    <tr>\n",
       "      <th>4</th>\n",
       "      <td>2022-06-30</td>\n",
       "      <td>110.0</td>\n",
       "      <td>False</td>\n",
       "      <td>False</td>\n",
       "      <td>3000.0</td>\n",
       "      <td>10104.0</td>\n",
       "      <td>3000.0</td>\n",
       "      <td>2022-03-31</td>\n",
       "      <td>3000.0</td>\n",
       "      <td>0.0</td>\n",
       "      <td>...</td>\n",
       "      <td>70.250000</td>\n",
       "      <td>68.209999</td>\n",
       "      <td>0.009536</td>\n",
       "      <td>2664926.0</td>\n",
       "      <td>2022-06</td>\n",
       "      <td>45103020.0</td>\n",
       "      <td>ORACLE CORP</td>\n",
       "      <td>ORCL</td>\n",
       "      <td>Information Technology</td>\n",
       "      <td>Software &amp; Services</td>\n",
       "    </tr>\n",
       "  </tbody>\n",
       "</table>\n",
       "<p>5 rows × 29 columns</p>\n",
       "</div>"
      ],
      "text/plain": [
       "        date  mgrno  first_report  last_report  shares   permno  shares_adj  \\\n",
       "0 2021-06-30  110.0         False        False  3000.0  10104.0      3000.0   \n",
       "1 2021-09-30  110.0         False        False  3000.0  10104.0      3000.0   \n",
       "2 2021-12-31  110.0         False        False  3000.0  10104.0      3000.0   \n",
       "3 2022-03-31  110.0         False        False  3000.0  10104.0      3000.0   \n",
       "4 2022-06-30  110.0         False        False  3000.0  10104.0      3000.0   \n",
       "\n",
       "     phrdate  pshares_adj  trade  ...      askhi      bidlo       ret  \\\n",
       "0 2021-03-31       3000.0    0.0  ...  78.209999  77.580002 -0.003329   \n",
       "1 2021-06-30       3000.0    0.0  ...  91.580002  87.120003 -0.045151   \n",
       "2 2021-09-30       3000.0    0.0  ...  88.099998  87.180000 -0.009090   \n",
       "3 2021-12-31       3000.0    0.0  ...  83.910004  82.589996 -0.007558   \n",
       "4 2022-03-31       3000.0    0.0  ...  70.250000  68.209999  0.009536   \n",
       "\n",
       "      shrout  yyyy-mm        gics       comnam  ticker  \\\n",
       "0  2792000.0  2021-06  45103020.0  ORACLE CORP    ORCL   \n",
       "1  2733686.0  2021-09  45103020.0  ORACLE CORP    ORCL   \n",
       "2  2670447.0  2021-12  45103020.0  ORACLE CORP    ORCL   \n",
       "3  2668157.0  2022-03  45103020.0  ORACLE CORP    ORCL   \n",
       "4  2664926.0  2022-06  45103020.0  ORACLE CORP    ORCL   \n",
       "\n",
       "                    gics1                gics2  \n",
       "0  Information Technology  Software & Services  \n",
       "1  Information Technology  Software & Services  \n",
       "2  Information Technology  Software & Services  \n",
       "3  Information Technology  Software & Services  \n",
       "4  Information Technology  Software & Services  \n",
       "\n",
       "[5 rows x 29 columns]"
      ]
     },
     "execution_count": 125,
     "metadata": {},
     "output_type": "execute_result"
    }
   ],
   "source": [
    "import pyarrow.parquet as pq\n",
    "\n",
    "# Specify the path to your parquet.gzip file\n",
    "parquet_file_path = 'data/holdings_sp500.parquet.gzip'\n",
    "\n",
    "# Read the Parquet file using pyarrow\n",
    "holdings = pq.read_table(parquet_file_path)\n",
    "\n",
    "# Convert the table to a Pandas DataFrame if needed\n",
    "holdings = holdings.to_pandas()\n",
    "\n",
    "holdings.head()"
   ]
  },
  {
   "cell_type": "markdown",
   "id": "51e14433",
   "metadata": {},
   "source": [
    "## number of institutions"
   ]
  },
  {
   "cell_type": "code",
   "execution_count": 126,
   "id": "3fe74c7b",
   "metadata": {},
   "outputs": [
    {
     "data": {
      "text/plain": [
       "year\n",
       "2015    3637\n",
       "2016    3794\n",
       "2017    3934\n",
       "2018    4332\n",
       "2019    4616\n",
       "2020    4939\n",
       "2021    5455\n",
       "2022    5904\n",
       "Name: mgrno, dtype: int64"
      ]
     },
     "execution_count": 126,
     "metadata": {},
     "output_type": "execute_result"
    }
   ],
   "source": [
    "institutions = holdings.groupby('year')['mgrno'].nunique()\n",
    "institutions"
   ]
  },
  {
   "cell_type": "code",
   "execution_count": 127,
   "id": "ae63d82c",
   "metadata": {},
   "outputs": [
    {
     "data": {
      "text/plain": [
       "Text(0.5, 1.0, 'Number of Distinct Institutions')"
      ]
     },
     "execution_count": 127,
     "metadata": {},
     "output_type": "execute_result"
    },
    {
     "data": {
      "image/png": "[encoded data removed]",
      "text/plain": [
       "<Figure size 640x480 with 1 Axes>"
      ]
     },
     "metadata": {},
     "output_type": "display_data"
    }
   ],
   "source": [
    "plt.bar(institutions.index, institutions)\n",
    "plt.title('Number of Distinct Institutions')"
   ]
  },
  {
   "cell_type": "markdown",
   "id": "1ba26f6d",
   "metadata": {},
   "source": [
    "## institution holding of shares"
   ]
  },
  {
   "cell_type": "code",
   "execution_count": 128,
   "id": "8cdcad42",
   "metadata": {},
   "outputs": [],
   "source": [
    "stks = holdings.groupby(['year', 'mgrno'])['permno'].nunique()\n",
    "stks = stks.groupby('year').mean()"
   ]
  },
  {
   "cell_type": "code",
   "execution_count": 129,
   "id": "f8185177",
   "metadata": {},
   "outputs": [
    {
     "data": {
      "text/plain": [
       "Text(0.5, 1.0, 'Average distinct stocks institutions hold')"
      ]
     },
     "execution_count": 129,
     "metadata": {},
     "output_type": "execute_result"
    },
    {
     "data": {
      "image/png": "[encoded data removed]",
      "text/plain": [
       "<Figure size 640x480 with 1 Axes>"
      ]
     },
     "metadata": {},
     "output_type": "display_data"
    }
   ],
   "source": [
    "plt.bar(stks.index, stks)\n",
    "plt.title('Average distinct stocks institutions hold')"
   ]
  },
  {
   "cell_type": "code",
   "execution_count": 130,
   "id": "f8640d0c",
   "metadata": {},
   "outputs": [
    {
     "data": {
      "text/plain": [
       "mgrno\n",
       "110.0       82\n",
       "127.0       24\n",
       "155.0        3\n",
       "160.0       24\n",
       "185.0      513\n",
       "          ... \n",
       "93950.0     43\n",
       "94230.0    256\n",
       "94300.0    135\n",
       "94500.0     44\n",
       "95105.0     49\n",
       "Name: permno, Length: 5904, dtype: int64"
      ]
     },
     "execution_count": 130,
     "metadata": {},
     "output_type": "execute_result"
    }
   ],
   "source": [
    "recent_holdings = holdings[holdings['year']==2022]\n",
    "recent_stks = recent_holdings.groupby(['mgrno'])['permno'].nunique()\n",
    "recent_stks"
   ]
  },
  {
   "cell_type": "code",
   "execution_count": 134,
   "id": "b7104dec",
   "metadata": {},
   "outputs": [
    {
     "data": {
      "text/plain": [
       "Text(0.5, 1.0, 'Distinct Stock Holdings Distribution for Institutions in 2022')"
      ]
     },
     "execution_count": 134,
     "metadata": {},
     "output_type": "execute_result"
    },
    {
     "data": {
      "image/png": "[encoded data removed]",
      "text/plain": [
       "<Figure size 640x480 with 1 Axes>"
      ]
     },
     "metadata": {},
     "output_type": "display_data"
    }
   ],
   "source": [
    "plt.hist(recent_stks, bins = 'auto')\n",
    "plt.title('Distinct Stock Holdings Distribution for Institutions in 2022')"
   ]
  },
  {
   "cell_type": "markdown",
   "id": "83e6f709",
   "metadata": {},
   "source": [
    "## number of instituions holding this stock"
   ]
  },
  {
   "cell_type": "code",
   "execution_count": 135,
   "id": "886993f0",
   "metadata": {},
   "outputs": [
    {
     "data": {
      "text/plain": [
       "Text(0.5, 1.0, 'Average distinct institutions that hold a stock')"
      ]
     },
     "execution_count": 135,
     "metadata": {},
     "output_type": "execute_result"
    },
    {
     "data": {
      "image/png": "[encoded data removed]",
      "text/plain": [
       "<Figure size 640x480 with 1 Axes>"
      ]
     },
     "metadata": {},
     "output_type": "display_data"
    }
   ],
   "source": [
    "mgrno_holding_stocks = holdings.groupby(['year','permno'])['mgrno'].nunique()\n",
    "mgrno_holding_stocks = mgrno_holding_stocks.groupby('year').mean()\n",
    "plt.bar(mgrno_holding_stocks.index, mgrno_holding_stocks)\n",
    "plt.title('Average distinct institutions that hold a stock')"
   ]
  },
  {
   "cell_type": "code",
   "execution_count": 136,
   "id": "a82ac61b",
   "metadata": {},
   "outputs": [],
   "source": [
    "stks = stks.groupby('year').mean()"
   ]
  },
  {
   "cell_type": "markdown",
   "id": "f693facd",
   "metadata": {},
   "source": [
    "# net flow"
   ]
  },
  {
   "cell_type": "code",
   "execution_count": 63,
   "id": "8cbfca56",
   "metadata": {},
   "outputs": [
    {
     "data": {
      "text/html": [
       "<div>\n",
       "<style scoped>\n",
       "    .dataframe tbody tr th:only-of-type {\n",
       "        vertical-align: middle;\n",
       "    }\n",
       "\n",
       "    .dataframe tbody tr th {\n",
       "        vertical-align: top;\n",
       "    }\n",
       "\n",
       "    .dataframe thead th {\n",
       "        text-align: right;\n",
       "    }\n",
       "</style>\n",
       "<table border=\"1\" class=\"dataframe\">\n",
       "  <thead>\n",
       "    <tr style=\"text-align: right;\">\n",
       "      <th></th>\n",
       "      <th>rdate</th>\n",
       "      <th>mgrno</th>\n",
       "      <th>mgrname</th>\n",
       "      <th>first_report</th>\n",
       "      <th>last_report</th>\n",
       "      <th>assets</th>\n",
       "      <th>pret</th>\n",
       "      <th>tbuys</th>\n",
       "      <th>tsales</th>\n",
       "      <th>tgain</th>\n",
       "      <th>tgainret</th>\n",
       "      <th>netflows</th>\n",
       "      <th>turnover1</th>\n",
       "      <th>turnover2</th>\n",
       "      <th>turnover3</th>\n",
       "    </tr>\n",
       "  </thead>\n",
       "  <tbody>\n",
       "    <tr>\n",
       "      <th>0</th>\n",
       "      <td>2015-03-31</td>\n",
       "      <td>110.0</td>\n",
       "      <td>AR ASSET MANAGEMENT, INC.</td>\n",
       "      <td>False</td>\n",
       "      <td>False</td>\n",
       "      <td>230.559108</td>\n",
       "      <td>-0.000580</td>\n",
       "      <td>NaN</td>\n",
       "      <td>NaN</td>\n",
       "      <td>NaN</td>\n",
       "      <td>NaN</td>\n",
       "      <td>NaN</td>\n",
       "      <td>NaN</td>\n",
       "      <td>NaN</td>\n",
       "      <td>NaN</td>\n",
       "    </tr>\n",
       "    <tr>\n",
       "      <th>1</th>\n",
       "      <td>2015-06-30</td>\n",
       "      <td>110.0</td>\n",
       "      <td>AR ASSET MANAGEMENT, INC.</td>\n",
       "      <td>False</td>\n",
       "      <td>False</td>\n",
       "      <td>226.166607</td>\n",
       "      <td>-0.077177</td>\n",
       "      <td>220.872751</td>\n",
       "      <td>0.000000</td>\n",
       "      <td>-17.778290</td>\n",
       "      <td>-0.080491</td>\n",
       "      <td>-4.258772</td>\n",
       "      <td>0.000000</td>\n",
       "      <td>0.018471</td>\n",
       "      <td>0.939516</td>\n",
       "    </tr>\n",
       "    <tr>\n",
       "      <th>2</th>\n",
       "      <td>2015-09-30</td>\n",
       "      <td>110.0</td>\n",
       "      <td>AR ASSET MANAGEMENT, INC.</td>\n",
       "      <td>False</td>\n",
       "      <td>False</td>\n",
       "      <td>206.563771</td>\n",
       "      <td>0.031058</td>\n",
       "      <td>8.114555</td>\n",
       "      <td>5.910309</td>\n",
       "      <td>-0.986499</td>\n",
       "      <td>-0.070339</td>\n",
       "      <td>-2.148021</td>\n",
       "      <td>0.027316</td>\n",
       "      <td>0.035630</td>\n",
       "      <td>0.052514</td>\n",
       "    </tr>\n",
       "    <tr>\n",
       "      <th>3</th>\n",
       "      <td>2015-12-31</td>\n",
       "      <td>110.0</td>\n",
       "      <td>AR ASSET MANAGEMENT, INC.</td>\n",
       "      <td>False</td>\n",
       "      <td>False</td>\n",
       "      <td>203.341691</td>\n",
       "      <td>0.037110</td>\n",
       "      <td>5.266832</td>\n",
       "      <td>8.467398</td>\n",
       "      <td>-0.931106</td>\n",
       "      <td>-0.067795</td>\n",
       "      <td>-9.637487</td>\n",
       "      <td>0.025698</td>\n",
       "      <td>0.072154</td>\n",
       "      <td>0.019833</td>\n",
       "    </tr>\n",
       "    <tr>\n",
       "      <th>4</th>\n",
       "      <td>2016-03-31</td>\n",
       "      <td>110.0</td>\n",
       "      <td>AR ASSET MANAGEMENT, INC.</td>\n",
       "      <td>False</td>\n",
       "      <td>False</td>\n",
       "      <td>214.631618</td>\n",
       "      <td>0.042093</td>\n",
       "      <td>7.935235</td>\n",
       "      <td>2.598843</td>\n",
       "      <td>0.324678</td>\n",
       "      <td>0.030822</td>\n",
       "      <td>3.743941</td>\n",
       "      <td>0.012435</td>\n",
       "      <td>0.031193</td>\n",
       "      <td>0.033393</td>\n",
       "    </tr>\n",
       "  </tbody>\n",
       "</table>\n",
       "</div>"
      ],
      "text/plain": [
       "       rdate  mgrno                    mgrname  first_report  last_report  \\\n",
       "0 2015-03-31  110.0  AR ASSET MANAGEMENT, INC.         False        False   \n",
       "1 2015-06-30  110.0  AR ASSET MANAGEMENT, INC.         False        False   \n",
       "2 2015-09-30  110.0  AR ASSET MANAGEMENT, INC.         False        False   \n",
       "3 2015-12-31  110.0  AR ASSET MANAGEMENT, INC.         False        False   \n",
       "4 2016-03-31  110.0  AR ASSET MANAGEMENT, INC.         False        False   \n",
       "\n",
       "       assets      pret       tbuys    tsales      tgain  tgainret  netflows  \\\n",
       "0  230.559108 -0.000580         NaN       NaN        NaN       NaN       NaN   \n",
       "1  226.166607 -0.077177  220.872751  0.000000 -17.778290 -0.080491 -4.258772   \n",
       "2  206.563771  0.031058    8.114555  5.910309  -0.986499 -0.070339 -2.148021   \n",
       "3  203.341691  0.037110    5.266832  8.467398  -0.931106 -0.067795 -9.637487   \n",
       "4  214.631618  0.042093    7.935235  2.598843   0.324678  0.030822  3.743941   \n",
       "\n",
       "   turnover1  turnover2  turnover3  \n",
       "0        NaN        NaN        NaN  \n",
       "1   0.000000   0.018471   0.939516  \n",
       "2   0.027316   0.035630   0.052514  \n",
       "3   0.025698   0.072154   0.019833  \n",
       "4   0.012435   0.031193   0.033393  "
      ]
     },
     "execution_count": 63,
     "metadata": {},
     "output_type": "execute_result"
    }
   ],
   "source": [
    "# Specify the path to your parquet.gzip file\n",
    "parquet_file_path = 'data/hf_netflow.parquet.gzip'\n",
    "\n",
    "# Read the Parquet file using pyarrow\n",
    "net_flow = pq.read_table(parquet_file_path)\n",
    "\n",
    "# Convert the table to a Pandas DataFrame if needed\n",
    "net_flow = net_flow.to_pandas()\n",
    "\n",
    "net_flow.head()"
   ]
  },
  {
   "cell_type": "markdown",
   "id": "0912c915",
   "metadata": {},
   "source": [
    "## map institutions, get top 10 names"
   ]
  },
  {
   "cell_type": "code",
   "execution_count": 138,
   "id": "372cec61",
   "metadata": {},
   "outputs": [],
   "source": [
    "top10_recent_stks =  recent_stks[recent_stks.nlargest(10).index]"
   ]
  },
  {
   "cell_type": "code",
   "execution_count": 139,
   "id": "dfbc7845",
   "metadata": {},
   "outputs": [
    {
     "data": {
      "text/html": [
       "<div>\n",
       "<style scoped>\n",
       "    .dataframe tbody tr th:only-of-type {\n",
       "        vertical-align: middle;\n",
       "    }\n",
       "\n",
       "    .dataframe tbody tr th {\n",
       "        vertical-align: top;\n",
       "    }\n",
       "\n",
       "    .dataframe thead th {\n",
       "        text-align: right;\n",
       "    }\n",
       "</style>\n",
       "<table border=\"1\" class=\"dataframe\">\n",
       "  <thead>\n",
       "    <tr style=\"text-align: right;\">\n",
       "      <th></th>\n",
       "      <th>rdate</th>\n",
       "      <th>mgrno</th>\n",
       "      <th>mgrname</th>\n",
       "      <th>first_report</th>\n",
       "      <th>last_report</th>\n",
       "      <th>assets</th>\n",
       "      <th>pret</th>\n",
       "      <th>tbuys</th>\n",
       "      <th>tsales</th>\n",
       "      <th>tgain</th>\n",
       "      <th>tgainret</th>\n",
       "      <th>netflows</th>\n",
       "      <th>turnover1</th>\n",
       "      <th>turnover2</th>\n",
       "      <th>turnover3</th>\n",
       "      <th>year</th>\n",
       "    </tr>\n",
       "  </thead>\n",
       "  <tbody>\n",
       "    <tr>\n",
       "      <th>9814</th>\n",
       "      <td>2015-03-31</td>\n",
       "      <td>7800.0</td>\n",
       "      <td>DEUTSCHE BK AKTIENGESELLSCHAFT</td>\n",
       "      <td>False</td>\n",
       "      <td>False</td>\n",
       "      <td>1.366017e+05</td>\n",
       "      <td>-0.002973</td>\n",
       "      <td>NaN</td>\n",
       "      <td>NaN</td>\n",
       "      <td>NaN</td>\n",
       "      <td>NaN</td>\n",
       "      <td>NaN</td>\n",
       "      <td>NaN</td>\n",
       "      <td>NaN</td>\n",
       "      <td>NaN</td>\n",
       "      <td>2015</td>\n",
       "    </tr>\n",
       "    <tr>\n",
       "      <th>16302</th>\n",
       "      <td>2015-03-31</td>\n",
       "      <td>8775.0</td>\n",
       "      <td>CUBIST SYSTEMATIC STRATEGIES L</td>\n",
       "      <td>False</td>\n",
       "      <td>False</td>\n",
       "      <td>1.822259e+03</td>\n",
       "      <td>0.000582</td>\n",
       "      <td>NaN</td>\n",
       "      <td>NaN</td>\n",
       "      <td>NaN</td>\n",
       "      <td>NaN</td>\n",
       "      <td>NaN</td>\n",
       "      <td>NaN</td>\n",
       "      <td>NaN</td>\n",
       "      <td>NaN</td>\n",
       "      <td>2015</td>\n",
       "    </tr>\n",
       "    <tr>\n",
       "      <th>28193</th>\n",
       "      <td>2018-03-31</td>\n",
       "      <td>9375.0</td>\n",
       "      <td>BARCLAYS BANK PLC</td>\n",
       "      <td>False</td>\n",
       "      <td>False</td>\n",
       "      <td>4.447567e+04</td>\n",
       "      <td>0.035879</td>\n",
       "      <td>NaN</td>\n",
       "      <td>NaN</td>\n",
       "      <td>NaN</td>\n",
       "      <td>NaN</td>\n",
       "      <td>NaN</td>\n",
       "      <td>NaN</td>\n",
       "      <td>NaN</td>\n",
       "      <td>NaN</td>\n",
       "      <td>2018</td>\n",
       "    </tr>\n",
       "    <tr>\n",
       "      <th>28344</th>\n",
       "      <td>2015-03-31</td>\n",
       "      <td>9385.0</td>\n",
       "      <td>BLACKROCK INC</td>\n",
       "      <td>False</td>\n",
       "      <td>False</td>\n",
       "      <td>1.107465e+06</td>\n",
       "      <td>-0.002843</td>\n",
       "      <td>NaN</td>\n",
       "      <td>NaN</td>\n",
       "      <td>NaN</td>\n",
       "      <td>NaN</td>\n",
       "      <td>NaN</td>\n",
       "      <td>NaN</td>\n",
       "      <td>NaN</td>\n",
       "      <td>NaN</td>\n",
       "      <td>2015</td>\n",
       "    </tr>\n",
       "    <tr>\n",
       "      <th>33132</th>\n",
       "      <td>2015-03-31</td>\n",
       "      <td>10039.0</td>\n",
       "      <td>GEODE CAPITAL MGMT, L.L.C.</td>\n",
       "      <td>False</td>\n",
       "      <td>False</td>\n",
       "      <td>1.617468e+05</td>\n",
       "      <td>0.003791</td>\n",
       "      <td>NaN</td>\n",
       "      <td>NaN</td>\n",
       "      <td>NaN</td>\n",
       "      <td>NaN</td>\n",
       "      <td>NaN</td>\n",
       "      <td>NaN</td>\n",
       "      <td>NaN</td>\n",
       "      <td>NaN</td>\n",
       "      <td>2015</td>\n",
       "    </tr>\n",
       "    <tr>\n",
       "      <th>37169</th>\n",
       "      <td>2015-03-31</td>\n",
       "      <td>10404.0</td>\n",
       "      <td>SG AMERICAS SECURITIES, LLC</td>\n",
       "      <td>False</td>\n",
       "      <td>False</td>\n",
       "      <td>1.420997e+04</td>\n",
       "      <td>0.003172</td>\n",
       "      <td>NaN</td>\n",
       "      <td>NaN</td>\n",
       "      <td>NaN</td>\n",
       "      <td>NaN</td>\n",
       "      <td>NaN</td>\n",
       "      <td>NaN</td>\n",
       "      <td>NaN</td>\n",
       "      <td>NaN</td>\n",
       "      <td>2015</td>\n",
       "    </tr>\n",
       "    <tr>\n",
       "      <th>39599</th>\n",
       "      <td>2015-03-31</td>\n",
       "      <td>10586.0</td>\n",
       "      <td>AMVESCAP PLC LONDON</td>\n",
       "      <td>False</td>\n",
       "      <td>False</td>\n",
       "      <td>2.346441e+05</td>\n",
       "      <td>0.001697</td>\n",
       "      <td>NaN</td>\n",
       "      <td>NaN</td>\n",
       "      <td>NaN</td>\n",
       "      <td>NaN</td>\n",
       "      <td>NaN</td>\n",
       "      <td>NaN</td>\n",
       "      <td>NaN</td>\n",
       "      <td>NaN</td>\n",
       "      <td>2015</td>\n",
       "    </tr>\n",
       "    <tr>\n",
       "      <th>40588</th>\n",
       "      <td>2015-03-31</td>\n",
       "      <td>10719.0</td>\n",
       "      <td>ROYAL BANK OF CANADA</td>\n",
       "      <td>False</td>\n",
       "      <td>False</td>\n",
       "      <td>2.422902e+04</td>\n",
       "      <td>-0.004074</td>\n",
       "      <td>NaN</td>\n",
       "      <td>NaN</td>\n",
       "      <td>NaN</td>\n",
       "      <td>NaN</td>\n",
       "      <td>NaN</td>\n",
       "      <td>NaN</td>\n",
       "      <td>NaN</td>\n",
       "      <td>NaN</td>\n",
       "      <td>2015</td>\n",
       "    </tr>\n",
       "    <tr>\n",
       "      <th>40867</th>\n",
       "      <td>2015-03-31</td>\n",
       "      <td>10736.0</td>\n",
       "      <td>JANE STR HOLDING, LLC</td>\n",
       "      <td>False</td>\n",
       "      <td>False</td>\n",
       "      <td>5.484280e+03</td>\n",
       "      <td>0.004216</td>\n",
       "      <td>NaN</td>\n",
       "      <td>NaN</td>\n",
       "      <td>NaN</td>\n",
       "      <td>NaN</td>\n",
       "      <td>NaN</td>\n",
       "      <td>NaN</td>\n",
       "      <td>NaN</td>\n",
       "      <td>NaN</td>\n",
       "      <td>2015</td>\n",
       "    </tr>\n",
       "    <tr>\n",
       "      <th>51954</th>\n",
       "      <td>2015-03-31</td>\n",
       "      <td>11800.0</td>\n",
       "      <td>CREDIT SUISSE SECS (USA) LLC</td>\n",
       "      <td>False</td>\n",
       "      <td>False</td>\n",
       "      <td>8.080182e+04</td>\n",
       "      <td>0.004897</td>\n",
       "      <td>NaN</td>\n",
       "      <td>NaN</td>\n",
       "      <td>NaN</td>\n",
       "      <td>NaN</td>\n",
       "      <td>NaN</td>\n",
       "      <td>NaN</td>\n",
       "      <td>NaN</td>\n",
       "      <td>NaN</td>\n",
       "      <td>2015</td>\n",
       "    </tr>\n",
       "  </tbody>\n",
       "</table>\n",
       "</div>"
      ],
      "text/plain": [
       "           rdate    mgrno                         mgrname  first_report  \\\n",
       "9814  2015-03-31   7800.0  DEUTSCHE BK AKTIENGESELLSCHAFT         False   \n",
       "16302 2015-03-31   8775.0  CUBIST SYSTEMATIC STRATEGIES L         False   \n",
       "28193 2018-03-31   9375.0               BARCLAYS BANK PLC         False   \n",
       "28344 2015-03-31   9385.0                   BLACKROCK INC         False   \n",
       "33132 2015-03-31  10039.0      GEODE CAPITAL MGMT, L.L.C.         False   \n",
       "37169 2015-03-31  10404.0     SG AMERICAS SECURITIES, LLC         False   \n",
       "39599 2015-03-31  10586.0             AMVESCAP PLC LONDON         False   \n",
       "40588 2015-03-31  10719.0            ROYAL BANK OF CANADA         False   \n",
       "40867 2015-03-31  10736.0           JANE STR HOLDING, LLC         False   \n",
       "51954 2015-03-31  11800.0    CREDIT SUISSE SECS (USA) LLC         False   \n",
       "\n",
       "       last_report        assets      pret  tbuys  tsales  tgain  tgainret  \\\n",
       "9814         False  1.366017e+05 -0.002973    NaN     NaN    NaN       NaN   \n",
       "16302        False  1.822259e+03  0.000582    NaN     NaN    NaN       NaN   \n",
       "28193        False  4.447567e+04  0.035879    NaN     NaN    NaN       NaN   \n",
       "28344        False  1.107465e+06 -0.002843    NaN     NaN    NaN       NaN   \n",
       "33132        False  1.617468e+05  0.003791    NaN     NaN    NaN       NaN   \n",
       "37169        False  1.420997e+04  0.003172    NaN     NaN    NaN       NaN   \n",
       "39599        False  2.346441e+05  0.001697    NaN     NaN    NaN       NaN   \n",
       "40588        False  2.422902e+04 -0.004074    NaN     NaN    NaN       NaN   \n",
       "40867        False  5.484280e+03  0.004216    NaN     NaN    NaN       NaN   \n",
       "51954        False  8.080182e+04  0.004897    NaN     NaN    NaN       NaN   \n",
       "\n",
       "       netflows  turnover1  turnover2  turnover3  year  \n",
       "9814        NaN        NaN        NaN        NaN  2015  \n",
       "16302       NaN        NaN        NaN        NaN  2015  \n",
       "28193       NaN        NaN        NaN        NaN  2018  \n",
       "28344       NaN        NaN        NaN        NaN  2015  \n",
       "33132       NaN        NaN        NaN        NaN  2015  \n",
       "37169       NaN        NaN        NaN        NaN  2015  \n",
       "39599       NaN        NaN        NaN        NaN  2015  \n",
       "40588       NaN        NaN        NaN        NaN  2015  \n",
       "40867       NaN        NaN        NaN        NaN  2015  \n",
       "51954       NaN        NaN        NaN        NaN  2015  "
      ]
     },
     "execution_count": 139,
     "metadata": {},
     "output_type": "execute_result"
    }
   ],
   "source": [
    "mgr_map = net_flow.drop_duplicates(subset='mgrno')\n",
    "mgr_map = mgr_map[mgr_map['mgrno'].isin(top10_recent_stks.index)]\n",
    "mgr_map"
   ]
  },
  {
   "cell_type": "markdown",
   "id": "7a038aec",
   "metadata": {},
   "source": [
    "## held value"
   ]
  },
  {
   "cell_type": "code",
   "execution_count": 80,
   "id": "063a2fb4",
   "metadata": {},
   "outputs": [
    {
     "data": {
      "text/html": [
       "<div>\n",
       "<style scoped>\n",
       "    .dataframe tbody tr th:only-of-type {\n",
       "        vertical-align: middle;\n",
       "    }\n",
       "\n",
       "    .dataframe tbody tr th {\n",
       "        vertical-align: top;\n",
       "    }\n",
       "\n",
       "    .dataframe thead th {\n",
       "        text-align: right;\n",
       "    }\n",
       "</style>\n",
       "<table border=\"1\" class=\"dataframe\">\n",
       "  <thead>\n",
       "    <tr style=\"text-align: right;\">\n",
       "      <th></th>\n",
       "      <th>rdate</th>\n",
       "      <th>mgrno</th>\n",
       "      <th>mgrname</th>\n",
       "      <th>first_report</th>\n",
       "      <th>last_report</th>\n",
       "      <th>assets</th>\n",
       "      <th>pret</th>\n",
       "      <th>tbuys</th>\n",
       "      <th>tsales</th>\n",
       "      <th>tgain</th>\n",
       "      <th>tgainret</th>\n",
       "      <th>netflows</th>\n",
       "      <th>turnover1</th>\n",
       "      <th>turnover2</th>\n",
       "      <th>turnover3</th>\n",
       "      <th>year</th>\n",
       "    </tr>\n",
       "  </thead>\n",
       "  <tbody>\n",
       "    <tr>\n",
       "      <th>28</th>\n",
       "      <td>2022-03-31</td>\n",
       "      <td>110.0</td>\n",
       "      <td>AR ASSET MANAGEMENT, INC.</td>\n",
       "      <td>False</td>\n",
       "      <td>False</td>\n",
       "      <td>378.883709</td>\n",
       "      <td>-0.117205</td>\n",
       "      <td>6.968764</td>\n",
       "      <td>1.550537</td>\n",
       "      <td>-0.411036</td>\n",
       "      <td>-0.048248</td>\n",
       "      <td>5.222313</td>\n",
       "      <td>0.004109</td>\n",
       "      <td>0.018020</td>\n",
       "      <td>0.008772</td>\n",
       "      <td>2022</td>\n",
       "    </tr>\n",
       "    <tr>\n",
       "      <th>29</th>\n",
       "      <td>2022-06-30</td>\n",
       "      <td>110.0</td>\n",
       "      <td>AR ASSET MANAGEMENT, INC.</td>\n",
       "      <td>False</td>\n",
       "      <td>False</td>\n",
       "      <td>337.940799</td>\n",
       "      <td>-0.055062</td>\n",
       "      <td>6.717828</td>\n",
       "      <td>0.570962</td>\n",
       "      <td>0.320701</td>\n",
       "      <td>0.043999</td>\n",
       "      <td>3.464036</td>\n",
       "      <td>0.001593</td>\n",
       "      <td>0.010650</td>\n",
       "      <td>0.010095</td>\n",
       "      <td>2022</td>\n",
       "    </tr>\n",
       "    <tr>\n",
       "      <th>30</th>\n",
       "      <td>2022-09-30</td>\n",
       "      <td>110.0</td>\n",
       "      <td>AR ASSET MANAGEMENT, INC.</td>\n",
       "      <td>False</td>\n",
       "      <td>False</td>\n",
       "      <td>318.628230</td>\n",
       "      <td>0.122763</td>\n",
       "      <td>5.628877</td>\n",
       "      <td>2.000557</td>\n",
       "      <td>0.722348</td>\n",
       "      <td>0.094679</td>\n",
       "      <td>-0.705009</td>\n",
       "      <td>0.006094</td>\n",
       "      <td>0.008006</td>\n",
       "      <td>0.020490</td>\n",
       "      <td>2022</td>\n",
       "    </tr>\n",
       "    <tr>\n",
       "      <th>58</th>\n",
       "      <td>2022-03-31</td>\n",
       "      <td>127.0</td>\n",
       "      <td>AEW CAPITAL MANAGEMENT, L.P.</td>\n",
       "      <td>False</td>\n",
       "      <td>False</td>\n",
       "      <td>3443.257012</td>\n",
       "      <td>-0.185645</td>\n",
       "      <td>190.557238</td>\n",
       "      <td>406.021428</td>\n",
       "      <td>9.808312</td>\n",
       "      <td>0.016441</td>\n",
       "      <td>-228.624531</td>\n",
       "      <td>0.052366</td>\n",
       "      <td>0.109316</td>\n",
       "      <td>0.095957</td>\n",
       "      <td>2022</td>\n",
       "    </tr>\n",
       "    <tr>\n",
       "      <th>59</th>\n",
       "      <td>2022-06-30</td>\n",
       "      <td>127.0</td>\n",
       "      <td>AEW CAPITAL MANAGEMENT, L.P.</td>\n",
       "      <td>False</td>\n",
       "      <td>False</td>\n",
       "      <td>2660.282252</td>\n",
       "      <td>-0.093528</td>\n",
       "      <td>415.902655</td>\n",
       "      <td>606.302827</td>\n",
       "      <td>-0.103016</td>\n",
       "      <td>-0.000101</td>\n",
       "      <td>-143.751837</td>\n",
       "      <td>0.136282</td>\n",
       "      <td>0.162536</td>\n",
       "      <td>0.255123</td>\n",
       "      <td>2022</td>\n",
       "    </tr>\n",
       "  </tbody>\n",
       "</table>\n",
       "</div>"
      ],
      "text/plain": [
       "        rdate  mgrno                       mgrname  first_report  last_report  \\\n",
       "28 2022-03-31  110.0     AR ASSET MANAGEMENT, INC.         False        False   \n",
       "29 2022-06-30  110.0     AR ASSET MANAGEMENT, INC.         False        False   \n",
       "30 2022-09-30  110.0     AR ASSET MANAGEMENT, INC.         False        False   \n",
       "58 2022-03-31  127.0  AEW CAPITAL MANAGEMENT, L.P.         False        False   \n",
       "59 2022-06-30  127.0  AEW CAPITAL MANAGEMENT, L.P.         False        False   \n",
       "\n",
       "         assets      pret       tbuys      tsales     tgain  tgainret  \\\n",
       "28   378.883709 -0.117205    6.968764    1.550537 -0.411036 -0.048248   \n",
       "29   337.940799 -0.055062    6.717828    0.570962  0.320701  0.043999   \n",
       "30   318.628230  0.122763    5.628877    2.000557  0.722348  0.094679   \n",
       "58  3443.257012 -0.185645  190.557238  406.021428  9.808312  0.016441   \n",
       "59  2660.282252 -0.093528  415.902655  606.302827 -0.103016 -0.000101   \n",
       "\n",
       "      netflows  turnover1  turnover2  turnover3  year  \n",
       "28    5.222313   0.004109   0.018020   0.008772  2022  \n",
       "29    3.464036   0.001593   0.010650   0.010095  2022  \n",
       "30   -0.705009   0.006094   0.008006   0.020490  2022  \n",
       "58 -228.624531   0.052366   0.109316   0.095957  2022  \n",
       "59 -143.751837   0.136282   0.162536   0.255123  2022  "
      ]
     },
     "execution_count": 80,
     "metadata": {},
     "output_type": "execute_result"
    }
   ],
   "source": [
    "net_flow['year'] = net_flow['rdate'].dt.year\n",
    "recent_net_flow = net_flow[net_flow['year']==2022]\n",
    "recent_net_flow.head()"
   ]
  },
  {
   "cell_type": "code",
   "execution_count": 102,
   "id": "a46cabd2",
   "metadata": {},
   "outputs": [
    {
     "data": {
      "text/plain": [
       "mgrno\n",
       "110.0      5.843982\n",
       "127.0      7.968232\n",
       "155.0      6.477776\n",
       "160.0      7.444930\n",
       "180.0      6.501507\n",
       "             ...   \n",
       "94230.0    8.805569\n",
       "94280.0    4.510506\n",
       "94300.0    7.452462\n",
       "94500.0    8.053815\n",
       "95105.0    6.282290\n",
       "Name: assets, Length: 6817, dtype: float64"
      ]
     },
     "execution_count": 102,
     "metadata": {},
     "output_type": "execute_result"
    }
   ],
   "source": [
    "held_value = recent_net_flow.groupby('mgrno')['assets'].mean()\n",
    "log_held_value = np.log(held_value)\n",
    "log_held_value"
   ]
  },
  {
   "cell_type": "code",
   "execution_count": 103,
   "id": "fb41d42c",
   "metadata": {},
   "outputs": [
    {
     "data": {
      "image/png": "[encoded data removed]",
      "text/plain": [
       "<Figure size 640x480 with 1 Axes>"
      ]
     },
     "metadata": {},
     "output_type": "display_data"
    }
   ],
   "source": [
    "plt.hist(log_held_value, bins = 'auto')\n",
    "plt.title('Log Held Value Distribution in 2022')\n",
    "plt.show()"
   ]
  },
  {
   "cell_type": "markdown",
   "id": "541f91f4",
   "metadata": {},
   "source": [
    "## netflows"
   ]
  },
  {
   "cell_type": "code",
   "execution_count": 105,
   "id": "bdbcf220",
   "metadata": {},
   "outputs": [],
   "source": [
    "net_flows = recent_net_flow.groupby('mgrno')['netflows'].mean()\n",
    "pos_net_flows = net_flows[net_flows>0]\n",
    "neg_net_flows = net_flows[net_flows<0]"
   ]
  },
  {
   "cell_type": "code",
   "execution_count": 106,
   "id": "31aec704",
   "metadata": {},
   "outputs": [],
   "source": [
    "log_pos_net_flows = np.log(pos_net_flows)\n",
    "log_neg_net_flows = np.log(-neg_net_flows)"
   ]
  },
  {
   "cell_type": "code",
   "execution_count": 107,
   "id": "4cc42a3e",
   "metadata": {},
   "outputs": [
    {
     "data": {
      "image/png": "[encoded data removed]",
      "text/plain": [
       "<Figure size 640x480 with 1 Axes>"
      ]
     },
     "metadata": {},
     "output_type": "display_data"
    }
   ],
   "source": [
    "plt.hist(log_pos_net_flows, bins = 'auto')\n",
    "plt.title('Average Log Positive Net Flows Distribution in 2022')\n",
    "plt.show()"
   ]
  },
  {
   "cell_type": "code",
   "execution_count": 108,
   "id": "373b7281",
   "metadata": {},
   "outputs": [
    {
     "data": {
      "image/png": "[encoded data removed]",
      "text/plain": [
       "<Figure size 640x480 with 1 Axes>"
      ]
     },
     "metadata": {},
     "output_type": "display_data"
    }
   ],
   "source": [
    "plt.hist(log_neg_net_flows, bins = 'auto')\n",
    "plt.title('Average Log Negative Net Flows Distribution in 2022')\n",
    "plt.show()"
   ]
  },
  {
   "cell_type": "markdown",
   "id": "86e04b69",
   "metadata": {},
   "source": [
    "## tgainret"
   ]
  },
  {
   "cell_type": "code",
   "execution_count": 113,
   "id": "c80a797e",
   "metadata": {},
   "outputs": [
    {
     "data": {
      "image/png": "[encoded data removed]",
      "text/plain": [
       "<Figure size 640x480 with 1 Axes>"
      ]
     },
     "metadata": {},
     "output_type": "display_data"
    }
   ],
   "source": [
    "tgainret = recent_net_flow.groupby('mgrno')['tgainret'].mean()\n",
    "plt.hist(tgainret, bins = 'auto')\n",
    "plt.title('Average Trade Returns Distribution in 2022')\n",
    "plt.show()"
   ]
  },
  {
   "cell_type": "code",
   "execution_count": 114,
   "id": "4246cfa7",
   "metadata": {},
   "outputs": [],
   "source": [
    "log_pos_tgainret = np.log(tgainret[tgainret>0])\n",
    "log_neg_tgainret = np.log(-tgainret[tgainret<0])"
   ]
  },
  {
   "cell_type": "code",
   "execution_count": 117,
   "id": "f4957643",
   "metadata": {},
   "outputs": [
    {
     "data": {
      "image/png": "[encoded data removed]",
      "text/plain": [
       "<Figure size 640x480 with 1 Axes>"
      ]
     },
     "metadata": {},
     "output_type": "display_data"
    }
   ],
   "source": [
    "plt.hist(log_pos_tgainret, bins = 'auto')\n",
    "plt.title('Average Log Positive Trade Returns Distribution in 2022')\n",
    "plt.show()"
   ]
  },
  {
   "cell_type": "code",
   "execution_count": 116,
   "id": "d41d8081",
   "metadata": {},
   "outputs": [
    {
     "data": {
      "image/png": "[encoded data removed]",
      "text/plain": [
       "<Figure size 640x480 with 1 Axes>"
      ]
     },
     "metadata": {},
     "output_type": "display_data"
    }
   ],
   "source": [
    "plt.hist(log_neg_tgainret, bins = 'auto')\n",
    "plt.title('Average Log Negative Trade Returns Distribution in 2022')\n",
    "plt.show()"
   ]
  },
  {
   "cell_type": "markdown",
   "id": "9e9b8f7e",
   "metadata": {},
   "source": [
    "## buy & sell"
   ]
  },
  {
   "cell_type": "code",
   "execution_count": 122,
   "id": "fb3e769f",
   "metadata": {},
   "outputs": [
    {
     "data": {
      "image/png": "[encoded data removed]",
      "text/plain": [
       "<Figure size 640x480 with 1 Axes>"
      ]
     },
     "metadata": {},
     "output_type": "display_data"
    }
   ],
   "source": [
    "tbuys = np.log(0.1+recent_net_flow.groupby('mgrno')['tbuys'].mean())\n",
    "plt.hist(tbuys, bins = 'auto')\n",
    "plt.title('Average Log Dollar Amount Buys per stock in 2022')\n",
    "plt.show()"
   ]
  },
  {
   "cell_type": "code",
   "execution_count": 123,
   "id": "2e23cfef",
   "metadata": {},
   "outputs": [
    {
     "data": {
      "image/png": "[encoded data removed]",
      "text/plain": [
       "<Figure size 640x480 with 1 Axes>"
      ]
     },
     "metadata": {},
     "output_type": "display_data"
    }
   ],
   "source": [
    "tsales = np.log(0.1+recent_net_flow.groupby('mgrno')['tsales'].mean())\n",
    "plt.hist(tsales, bins = 'auto')\n",
    "plt.title('Average Log Dollar Amount Sales per stock in 2022')\n",
    "plt.show()"
   ]
  }
 ],
 "metadata": {
  "kernelspec": {
   "display_name": "Python 3 (ipykernel)",
   "language": "python",
   "name": "python3"
  },
  "language_info": {
   "codemirror_mode": {
    "name": "ipython",
    "version": 3
   },
   "file_extension": ".py",
   "mimetype": "text/x-python",
   "name": "python",
   "nbconvert_exporter": "python",
   "pygments_lexer": "ipython3",
   "version": "3.9.13"
  }
 },
 "nbformat": 4,
 "nbformat_minor": 5
}
